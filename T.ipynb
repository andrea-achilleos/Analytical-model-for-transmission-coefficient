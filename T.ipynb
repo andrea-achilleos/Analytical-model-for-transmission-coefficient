{
  "nbformat": 4,
  "nbformat_minor": 0,
  "metadata": {
    "colab": {
      "provenance": []
    },
    "kernelspec": {
      "name": "python3",
      "display_name": "Python 3"
    },
    "language_info": {
      "name": "python"
    }
  },
  "cells": [
    {
      "cell_type": "code",
      "execution_count": 7,
      "metadata": {
        "id": "SBn0ixJfaMtZ"
      },
      "outputs": [],
      "source": [
        "import os\n",
        "import time\n",
        "import numpy as np\n",
        "import matplotlib.pyplot as plt\n",
        "import matplotlib.cm as cm\n",
        "import itertools as it\n",
        "import math as math\n",
        "from scipy.special import comb\n",
        "import numpy as np\n",
        "\n",
        "import sys, os, time, numpy as np, matplotlib.pyplot as plt\n",
        "# from matplotlib.colors import ListedColormap, LinearSegmentedColormap\n",
        "# from mpl_toolkits.axes_grid1.axes_divider import make_axes_locatable\n",
        "import numpy as np, matplotlib.pyplot as plt, matplotlib.colors,  matplotlib.cm as cm, os, sys\n",
        "from mpl_toolkits.axes_grid1.axes_divider import make_axes_locatable\n",
        "from mpl_toolkits.mplot3d import axes3d\n",
        "import mpl_toolkits.mplot3d.art3d as art3d\n",
        "\n",
        "home = os.path.abspath( os.getcwd() + \"/..\" )\n",
        "sys.path.append(home)\n",
        "from sklearn.cluster import KMeans\n",
        "\n",
        "import numpy as np\n",
        "import matplotlib.pyplot as plt\n",
        "import cmath\n",
        "import math\n",
        "import pandas as pd"
      ]
    },
    {
      "cell_type": "code",
      "source": [
        "def transfer_matrix_method(a_x, a_y, m, n, t, w, f):\n",
        "  k0 = (2*cmath.pi*f)/343 #wavenumber in air\n",
        "  k0 = k0*1\n",
        "  ds = []\n",
        "  ls = []\n",
        "  for i in range(m+n):\n",
        "    d = (a_x/(m+n-1)) - ((m+n)/(m+n-1))*w\n",
        "    l = a_y-2*t-d\n",
        "    ls.append(l)\n",
        "    ds.append(d)\n",
        "\n",
        "  d_in = ds[0]\n",
        "  l_in = ls[0]\n",
        "  d_out = ds[-1]\n",
        "\n",
        "  #print(l_in)\n",
        "  #print(d_out)\n",
        "  \n",
        "  Ms = []\n",
        "\n",
        "  for ii in range(len(ds)-1):\n",
        "    summation = 0\n",
        "    for i in range(10): #should be infinity\n",
        "\n",
        "      k_yn_dash = (i*cmath.pi)/(ls[ii]+ds[ii]+(2*t))\n",
        "      k_xn_dash = (k0**2 - k_yn_dash**2)**(1/2)\n",
        "      #k_xn_dash = k_xn_dash*1.1\n",
        "      #print(k_xn_dash)\n",
        "\n",
        "      if i==0:\n",
        "        psi_n_dash_dash = 1\n",
        "\n",
        "      else:\n",
        "        psi_n_dash_dash = ((2**(1/2))/(ds[ii]*k_yn_dash))*((cmath.sin(k_yn_dash*(t+ls[ii]+ds[ii])))-(cmath.sin(k_yn_dash*(t+ls[ii]))))\n",
        "      summation += ((ds[ii]*k0)*(psi_n_dash_dash**2))/(a_y*k_xn_dash)\n",
        "\n",
        "    delta1 = 1 + summation\n",
        "    delta2 = 1 - summation\n",
        "\n",
        "    alpha = 0\n",
        "    beta = 0\n",
        "\n",
        "    for i in range(10): #should be infinity\n",
        "      k_yn = (i * cmath.pi)/(ls[ii]+ds[ii])\n",
        "      k_xn = (k0**2 - k_yn**2)**(1/2)\n",
        "      #k_xn = k_xn*1.1\n",
        "\n",
        "      if i==0:\n",
        "        phi_n1 = 1\n",
        "        phi_n2 = 1\n",
        "\n",
        "      else:\n",
        "        phi_n1 = ((2)**(1/2)/ds[ii])*(cmath.sin(k_yn*ds[ii])/k_yn)\n",
        "        phi_n2 = ((2)**(1/2)/(ds[ii]*k_yn))*((cmath.sin(k_yn*(ls[ii]+ds[ii])))-cmath.sin(k_yn*ls[ii]))\n",
        "        \n",
        "      alpha += ((k0*ds[ii])*(1+cmath.exp(2j*k_xn*ds[ii]))*phi_n1**2)/(k_xn*(ls[ii]+ds[ii])*(1-cmath.exp(2j*k_xn*ds[ii])))\n",
        "      beta += (k0*ds[ii]*2*cmath.exp(1j*k_xn*ds[ii])*phi_n1*phi_n2)/(k_xn*(ls[ii]+ds[ii])*(1-cmath.exp(2j*k_xn*ds[ii])))\n",
        "\n",
        "    M1_11 = (((alpha+1)**2-beta**2)*cmath.exp(-1j*k0*w))/(2*beta)\n",
        "    M1_12 = (1-alpha**2+beta**2)/(2*beta)\n",
        "    M1_21 = ((alpha**2)-1-(beta**2))/(2*beta)\n",
        "    M1_22 = (((beta**2)-((alpha-1)**2))*cmath.exp(1j*k0*w))/(2*beta)\n",
        "    M1 = [[M1_11, M1_12], [M1_21, M1_22]]\n",
        "    Ms.append(M1)\n",
        "\n",
        "  summation1 = 0\n",
        "  for i in range(10):\n",
        "    k_yn_dash = (i*cmath.pi)/(l_in+d_in+(2*t))\n",
        "    k_xn_dash = (k0**2 - k_yn_dash**2)**(0.5)\n",
        "    #k_xn_dash = k_xn_dash*1.1\n",
        "\n",
        "    if i==0:\n",
        "      #psi_n_dash = (1/d)*(((2-delta0n)**(1/2)*(t+d))-((2-delta0n)**(1/2)*(t))) #THIS\n",
        "      psi_n_dash = 1\n",
        "    else:\n",
        "      #psi_n_dash = (1/d) * (((2-delta0n)**(1/2)*cmath.sin(k_yn_dash*(t+d))/k_yn_dash)-((2-delta0n)**(1/2)*cmath.sin(k_yn_dash*(t))/k_yn_dash))\n",
        "      psi_n_dash = ((2)**(1/2)/d_in)*((cmath.sin(k_yn_dash*(t+d_in))/k_yn_dash)-(cmath.sin(k_yn_dash*(t))/k_yn_dash))\n",
        "\n",
        "    summation1 += (k0*psi_n_dash**2)/(k_xn_dash)\n",
        "\n",
        "  alpha_dash = (a_y/d_in) - summation1\n",
        "  beta_dash = (a_y/d_in) + summation1\n",
        "\n",
        "  M2_11 = (1-(beta_dash/2)) * cmath.exp(-1j*k0*w)\n",
        "  M2_12 = (beta_dash/2) * cmath.exp(-1j*k0*w)\n",
        "  M2_21 = 1 + (alpha_dash/2)\n",
        "  M2_22 = -alpha_dash/2\n",
        "\n",
        "  M2 = [[M2_11, M2_12], [M2_21, M2_22]]\n",
        "\n",
        "  N = Ms[-1]\n",
        "  for i in range(len(Ms)-1):\n",
        "    N = np.matmul(N, Ms[len(Ms)-1-i])\n",
        "  \n",
        "  N = np.matmul(N, M2)\n",
        "\n",
        "  #N = np.matmul(np.matmul(np.matmul(Ms[-1], Ms[-2]), Ms[-3]), M2)\n",
        "\n",
        "  n11 = N[0][0]\n",
        "  n12 = N[0][1]\n",
        "  n21 = N[1][0]\n",
        "  n22 = N[1][1]\n",
        "\n",
        "  T = (2*d_out*((n21*n12)-(n11*n22)))/(a_y*((n12*delta1*cmath.exp(-1j*k0*w))+(n22*delta2)))\n",
        "  R = -((n11*delta1)+(n21*delta2*cmath.exp(1j*k0*w)))/((n12*delta1)+(n22*delta2*cmath.exp(1j*k0*w)))\n",
        "  \n",
        "  magnitude = np.abs(T)\n",
        "  phase = np.angle(T)\n",
        "  #if phase<0:\n",
        "  #  phase = phase+2*np.pi\n",
        "\n",
        "\n",
        "  magnitude_reflection = np.abs(R) #10 * math.log10(np.abs(R))\n",
        "  phase_reflection = np.angle(R)\n",
        "  if phase_reflection<0:\n",
        "    phase_reflection = phase_reflection+2*np.pi\n",
        "\n",
        "  return magnitude, phase, magnitude_reflection, phase_reflection"
      ],
      "metadata": {
        "id": "svD-rgyKabmv"
      },
      "execution_count": 8,
      "outputs": []
    },
    {
      "cell_type": "code",
      "source": [
        "wavelength_value = 8.661*10**(-3)\n",
        "a_x = wavelength_value \n",
        "a_y = wavelength_value*0.7 \n",
        "t = 0.0007810949749 \n",
        "m = 1 #number of bars\n",
        "n = 1 #number of bars\n",
        "w = 0.002652927136\n",
        "f = 40000\n",
        "\n",
        "T, p, _, _ = transfer_matrix_method(a_x, a_y, m, n, t, w, f)\n",
        "if p<0:\n",
        "  p = ((p/np.pi)%2)\n",
        "else:\n",
        "  p = p /np.pi\n",
        "print('Amplitude of transmission coefficient:', T)\n",
        "print('Phase of transmission coefficient:', p)"
      ],
      "metadata": {
        "colab": {
          "base_uri": "https://localhost:8080/"
        },
        "id": "zzdcSfNbabuy",
        "outputId": "9bec4fd0-8d67-4905-9034-27d653c03d31"
      },
      "execution_count": 9,
      "outputs": [
        {
          "output_type": "stream",
          "name": "stdout",
          "text": [
            "Amplitude of transmission coefficient: 0.7326065018785177\n",
            "Phase of transmission coefficient: 1.996010933882756\n"
          ]
        }
      ]
    },
    {
      "cell_type": "code",
      "source": [],
      "metadata": {
        "id": "0377u8K6abw_"
      },
      "execution_count": null,
      "outputs": []
    },
    {
      "cell_type": "code",
      "source": [],
      "metadata": {
        "id": "1ct34Oc6abzP"
      },
      "execution_count": null,
      "outputs": []
    },
    {
      "cell_type": "code",
      "source": [],
      "metadata": {
        "id": "YMPFnHa2ab2F"
      },
      "execution_count": null,
      "outputs": []
    }
  ]
}